{
 "cells": [
  {
   "cell_type": "code",
   "execution_count": 12,
   "id": "2fe00d10-f0eb-46aa-b46d-96f8148ee0cc",
   "metadata": {},
   "outputs": [
    {
     "ename": "ModuleNotFoundError",
     "evalue": "No module named 'spacy'",
     "output_type": "error",
     "traceback": [
      "\u001b[0;31m---------------------------------------------------------------------------\u001b[0m",
      "\u001b[0;31mModuleNotFoundError\u001b[0m                       Traceback (most recent call last)",
      "Cell \u001b[0;32mIn[12], line 2\u001b[0m\n\u001b[1;32m      1\u001b[0m \u001b[38;5;28;01mimport\u001b[39;00m \u001b[38;5;21;01mpandas\u001b[39;00m \u001b[38;5;28;01mas\u001b[39;00m \u001b[38;5;21;01mpd\u001b[39;00m\n\u001b[0;32m----> 2\u001b[0m \u001b[38;5;28;01mimport\u001b[39;00m \u001b[38;5;21;01mspacy\u001b[39;00m\n\u001b[1;32m      3\u001b[0m \u001b[38;5;28;01mfrom\u001b[39;00m \u001b[38;5;21;01msklearn\u001b[39;00m\u001b[38;5;21;01m.\u001b[39;00m\u001b[38;5;21;01mmetrics\u001b[39;00m\u001b[38;5;21;01m.\u001b[39;00m\u001b[38;5;21;01mpairwise\u001b[39;00m \u001b[38;5;28;01mimport\u001b[39;00m cosine_similarity\n",
      "\u001b[0;31mModuleNotFoundError\u001b[0m: No module named 'spacy'"
     ]
    }
   ],
   "source": [
    "import pandas as pd\n",
    "import spacy\n",
    "from sklearn.metrics.pairwise import cosine_similarity"
   ]
  },
  {
   "cell_type": "code",
   "execution_count": null,
   "id": "c47e73fb-076b-474f-9f6f-5530222fa79d",
   "metadata": {},
   "outputs": [],
   "source": []
  },
  {
   "cell_type": "code",
   "execution_count": 5,
   "id": "0dbba3b8-7953-4555-89c7-8e4d9191587a",
   "metadata": {},
   "outputs": [],
   "source": [
    "a = pd.read_csv(\"../exp_files/total/exp-a-pairs.csv\")\n",
    "a2 = pd.read_csv(\"../exp_files/total/exp-a2-pairs.csv\")\n",
    "n = pd.read_csv(\"../exp_files/total/exp-n-pairs.csv\")\n",
    "n2 = pd.read_csv(\"../exp_files/total/exp-n2-pairs.csv\")\n",
    "s = pd.read_csv(\"../exp_files/total/exp-s-pairs.csv\")\n",
    "v = pd.read_csv(\"../exp_files/total/exp-v-pairs.csv\")\n",
    "v2 = pd.read_csv(\"../exp_files/total/exp-v2-pairs.csv\")"
   ]
  },
  {
   "cell_type": "code",
   "execution_count": 7,
   "id": "62b4cdbf-3192-42bb-83e4-044dd089c123",
   "metadata": {},
   "outputs": [],
   "source": [
    "df = pd.concat([v,v2,n,n2,s,a,a2])"
   ]
  },
  {
   "cell_type": "code",
   "execution_count": null,
   "id": "fcf1f31e-bb91-4e0b-bd64-1bf41e19b794",
   "metadata": {},
   "outputs": [],
   "source": []
  },
  {
   "cell_type": "code",
   "execution_count": 10,
   "id": "f4156a71-1d4e-43f4-abd7-16cb08df0d78",
   "metadata": {},
   "outputs": [
    {
     "data": {
      "text/plain": [
       "11200"
      ]
     },
     "execution_count": 10,
     "metadata": {},
     "output_type": "execute_result"
    }
   ],
   "source": [
    "len(df)"
   ]
  },
  {
   "cell_type": "code",
   "execution_count": null,
   "id": "7dc92ed7-1d3c-4178-9757-7358f7291aad",
   "metadata": {},
   "outputs": [],
   "source": [
    "\n",
    "\n",
    "# Load pre-trained medium or large model\n",
    "nlp = spacy.load(\"en_core_web_md\")\n",
    "\n",
    "# Get word vectors\n",
    "vec1 = nlp(\"king\").vector\n",
    "vec2 = nlp(\"queen\").vector\n",
    "\n",
    "# Calculate cosine similarity\n",
    "similarity = cosine_similarity([vec1], [vec2])[0][0]\n",
    "print(f\"Cosine similarity: {similarity}\")\n"
   ]
  },
  {
   "cell_type": "code",
   "execution_count": null,
   "id": "91ae51e7-1d38-468d-9e79-7ad55d20cbee",
   "metadata": {},
   "outputs": [],
   "source": []
  }
 ],
 "metadata": {
  "kernelspec": {
   "display_name": "Python 3 (ipykernel)",
   "language": "python",
   "name": "python3"
  },
  "language_info": {
   "codemirror_mode": {
    "name": "ipython",
    "version": 3
   },
   "file_extension": ".py",
   "mimetype": "text/x-python",
   "name": "python",
   "nbconvert_exporter": "python",
   "pygments_lexer": "ipython3",
   "version": "3.8.3"
  }
 },
 "nbformat": 4,
 "nbformat_minor": 5
}
