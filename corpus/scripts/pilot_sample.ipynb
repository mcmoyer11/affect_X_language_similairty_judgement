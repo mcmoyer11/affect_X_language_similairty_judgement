{
 "cells": [
  {
   "cell_type": "code",
   "execution_count": null,
   "id": "d89d02db-222c-4c47-90c7-8ce1eff2e162",
   "metadata": {},
   "outputs": [],
   "source": []
  },
  {
   "cell_type": "code",
   "execution_count": 1,
   "id": "bc637da0-2cd1-4d4e-b4ea-89f34659d2f5",
   "metadata": {},
   "outputs": [],
   "source": [
    "from __future__ import division\n",
    "import pandas as pd\n",
    "from itertools import combinations_with_replacement\n",
    "import string\n"
   ]
  },
  {
   "cell_type": "code",
   "execution_count": 2,
   "id": "70974e94-ea6e-44a0-a13d-3f7ebdad56f0",
   "metadata": {},
   "outputs": [],
   "source": [
    "\n",
    "v1 = pd.read_csv(\"../exp_files/v2_ConceptualMatchingOnly.csv\")\n",
    "v2 = pd.read_csv(\"../exp_files/v2_MaxMatch.csv\")\n",
    "v3 = pd.read_csv(\"../exp_files/v2_MaxMismatch.csv\")\n",
    "v4 = pd.read_csv(\"../exp_files/v2_ValenceMatchingOnly.csv\")\n",
    "v5 = pd.read_csv(\"../exp_files/v2_SelfPair.csv\")."
   ]
  },
  {
   "cell_type": "code",
   "execution_count": 5,
   "id": "aeb542d0-7205-4212-9db9-9ef4d8899a65",
   "metadata": {},
   "outputs": [],
   "source": [
    "df = pd.concat([v1,v2,v3,v4,v5])"
   ]
  },
  {
   "cell_type": "code",
   "execution_count": 9,
   "id": "87cad3dd-b3ca-4ab8-8ada-f0a205230ce7",
   "metadata": {},
   "outputs": [
    {
     "data": {
      "text/html": [
       "<div>\n",
       "<style scoped>\n",
       "    .dataframe tbody tr th:only-of-type {\n",
       "        vertical-align: middle;\n",
       "    }\n",
       "\n",
       "    .dataframe tbody tr th {\n",
       "        vertical-align: top;\n",
       "    }\n",
       "\n",
       "    .dataframe thead th {\n",
       "        text-align: right;\n",
       "    }\n",
       "</style>\n",
       "<table border=\"1\" class=\"dataframe\">\n",
       "  <thead>\n",
       "    <tr style=\"text-align: right;\">\n",
       "      <th></th>\n",
       "      <th>Word1</th>\n",
       "      <th>Word2</th>\n",
       "      <th>FeatureCombo1</th>\n",
       "      <th>FeatureCombo2</th>\n",
       "      <th>FeatureMatch</th>\n",
       "      <th>Group</th>\n",
       "    </tr>\n",
       "  </thead>\n",
       "  <tbody>\n",
       "    <tr>\n",
       "      <th>0</th>\n",
       "      <td>cuddle</td>\n",
       "      <td>rust</td>\n",
       "      <td>physical-positive</td>\n",
       "      <td>physical-negative</td>\n",
       "      <td>ConceptualMatchingOnly</td>\n",
       "      <td>NaN</td>\n",
       "    </tr>\n",
       "    <tr>\n",
       "      <th>1</th>\n",
       "      <td>cuddle</td>\n",
       "      <td>slaughter</td>\n",
       "      <td>physical-positive</td>\n",
       "      <td>physical-negative</td>\n",
       "      <td>ConceptualMatchingOnly</td>\n",
       "      <td>NaN</td>\n",
       "    </tr>\n",
       "    <tr>\n",
       "      <th>2</th>\n",
       "      <td>cuddle</td>\n",
       "      <td>slash</td>\n",
       "      <td>physical-positive</td>\n",
       "      <td>physical-negative</td>\n",
       "      <td>ConceptualMatchingOnly</td>\n",
       "      <td>NaN</td>\n",
       "    </tr>\n",
       "    <tr>\n",
       "      <th>3</th>\n",
       "      <td>cuddle</td>\n",
       "      <td>crash</td>\n",
       "      <td>physical-positive</td>\n",
       "      <td>physical-negative</td>\n",
       "      <td>ConceptualMatchingOnly</td>\n",
       "      <td>NaN</td>\n",
       "    </tr>\n",
       "    <tr>\n",
       "      <th>4</th>\n",
       "      <td>cuddle</td>\n",
       "      <td>tear</td>\n",
       "      <td>physical-positive</td>\n",
       "      <td>physical-negative</td>\n",
       "      <td>ConceptualMatchingOnly</td>\n",
       "      <td>NaN</td>\n",
       "    </tr>\n",
       "  </tbody>\n",
       "</table>\n",
       "</div>"
      ],
      "text/plain": [
       "    Word1      Word2      FeatureCombo1      FeatureCombo2  \\\n",
       "0  cuddle       rust  physical-positive  physical-negative   \n",
       "1  cuddle  slaughter  physical-positive  physical-negative   \n",
       "2  cuddle      slash  physical-positive  physical-negative   \n",
       "3  cuddle      crash  physical-positive  physical-negative   \n",
       "4  cuddle       tear  physical-positive  physical-negative   \n",
       "\n",
       "             FeatureMatch Group  \n",
       "0  ConceptualMatchingOnly   NaN  \n",
       "1  ConceptualMatchingOnly   NaN  \n",
       "2  ConceptualMatchingOnly   NaN  \n",
       "3  ConceptualMatchingOnly   NaN  \n",
       "4  ConceptualMatchingOnly   NaN  "
      ]
     },
     "execution_count": 9,
     "metadata": {},
     "output_type": "execute_result"
    }
   ],
   "source": [
    "df.head()"
   ]
  },
  {
   "cell_type": "code",
   "execution_count": 37,
   "id": "379fd651-e8e7-4a2d-9f50-d9513803562f",
   "metadata": {},
   "outputs": [
    {
     "name": "stdout",
     "output_type": "stream",
     "text": [
      "\n",
      "✅ Final total rows: 50\n"
     ]
    }
   ],
   "source": [
    "import pandas as pd\n",
    "import numpy as np\n",
    "\n",
    "# Set global seed for reproducibility\n",
    "global_seed = 42\n",
    "np.random.seed(global_seed)\n",
    "\n",
    "# Final result list\n",
    "result_rows = []\n",
    "\n",
    "# Tracks words used in fallback groups across groups (for cross-group deduplication)\n",
    "fallback_shared_used_words = set()\n",
    "fallback_restricted_groups = {'MaxMismatch', 'ValenceMatchingOnly'}\n",
    "\n",
    "# Group by FeatureMatch\n",
    "for i, (feature, group) in enumerate(df.groupby('FeatureMatch')):\n",
    "    group_seed = global_seed + i\n",
    "    group_shuffled = group.sample(frac=1, random_state=group_seed)\n",
    "\n",
    "    selected_rows = []\n",
    "    used_words = set()\n",
    "    is_self_pair = feature == \"SelfPair\"\n",
    "    is_fallback_group = feature in fallback_restricted_groups\n",
    "\n",
    "    # Primary Selection (no repeats at all within group, unless SelfPair)\n",
    "    for _, row in group_shuffled.iterrows():\n",
    "        w1, w2 = row['Word1'], row['Word2']\n",
    "        if is_self_pair or (w1 not in used_words and w2 not in used_words):\n",
    "            selected_rows.append(row)\n",
    "            used_words.update([w1, w2])\n",
    "        if len(selected_rows) == 10:\n",
    "            break\n",
    "\n",
    "    # If <10 selected and not SelfPair — enter fallback\n",
    "    if len(selected_rows) < 10 and not is_self_pair:\n",
    "        print(f\"⚠️ Only {len(selected_rows)} valid rows for FeatureMatch '{feature}' — using fallback sampling\")\n",
    "\n",
    "        fallback_group = group.sample(frac=1, random_state=group_seed + 1000)\n",
    "        fallback_selected = []\n",
    "        used_word1 = set()\n",
    "        used_word2 = set()\n",
    "\n",
    "        # Phase 1: Strict (no repeats within or across fallback groups)\n",
    "        for _, row in fallback_group.iterrows():\n",
    "            if len(fallback_selected) == 10:\n",
    "                break\n",
    "            w1, w2 = row['Word1'], row['Word2']\n",
    "            if (w1 in used_word1 or w2 in used_word2 or\n",
    "                (is_fallback_group and (w1 in fallback_shared_used_words or w2 in fallback_shared_used_words))):\n",
    "                continue\n",
    "            fallback_selected.append(row)\n",
    "            used_word1.add(w1)\n",
    "            used_word2.add(w2)\n",
    "            if is_fallback_group:\n",
    "                fallback_shared_used_words.update([w1, w2])\n",
    "\n",
    "        # Phase 2: Relax cross-group restriction\n",
    "        if len(fallback_selected) < 10:\n",
    "            print(f\"ℹ️ Relaxing cross-group uniqueness for '{feature}'\")\n",
    "            for _, row in fallback_group.iterrows():\n",
    "                if len(fallback_selected) == 10:\n",
    "                    break\n",
    "                w1, w2 = row['Word1'], row['Word2']\n",
    "                if w1 in used_word1 or w2 in used_word2:\n",
    "                    continue\n",
    "                fallback_selected.append(row)\n",
    "                used_word1.add(w1)\n",
    "                used_word2.add(w2)\n",
    "\n",
    "        # Phase 3: Allow Word1 repeats\n",
    "        if len(fallback_selected) < 10:\n",
    "            print(f\"ℹ️ Allowing Word1 repeats for '{feature}' to reach 10\")\n",
    "            for _, row in fallback_group.iterrows():\n",
    "                if len(fallback_selected) == 10:\n",
    "                    break\n",
    "                w1, w2 = row['Word1'], row['Word2']\n",
    "                if w2 in used_word2:\n",
    "                    continue\n",
    "                fallback_selected.append(row)\n",
    "                used_word2.add(w2)\n",
    "\n",
    "        print(f\"✅ Fallback: Selected {len(fallback_selected)} rows for FeatureMatch '{feature}'\")\n",
    "        result_rows.extend(fallback_selected)\n",
    "    else:\n",
    "        result_rows.extend(selected_rows)\n",
    "\n",
    "# Final DataFrame\n",
    "final_df = pd.DataFrame(result_rows)\n",
    "print(f\"\\n✅ Final total rows: {len(final_df)}\")\n"
   ]
  },
  {
   "cell_type": "code",
   "execution_count": 38,
   "id": "0b747531-ec66-42d6-a637-c308f7609311",
   "metadata": {},
   "outputs": [
    {
     "data": {
      "text/plain": [
       "50"
      ]
     },
     "execution_count": 38,
     "metadata": {},
     "output_type": "execute_result"
    }
   ],
   "source": [
    "len(final_df)"
   ]
  },
  {
   "cell_type": "code",
   "execution_count": 39,
   "id": "25936b5b-20ac-486a-8487-0d0db14d49e5",
   "metadata": {},
   "outputs": [
    {
     "data": {
      "text/plain": [
       "FeatureMatch\n",
       "ConceptualMatchingOnly    10\n",
       "MaxMatch                  10\n",
       "MaxMismatch               10\n",
       "SelfPair                  10\n",
       "ValenceMatchingOnly       10\n",
       "Name: FeatureMatch, dtype: int64"
      ]
     },
     "execution_count": 39,
     "metadata": {},
     "output_type": "execute_result"
    }
   ],
   "source": [
    "final_df.groupby([\"FeatureMatch\"])[\"FeatureMatch\"].count()"
   ]
  },
  {
   "cell_type": "code",
   "execution_count": 40,
   "id": "95d64ed9-8699-4a87-9eb6-13ff7bb33bf6",
   "metadata": {},
   "outputs": [],
   "source": [
    "final_df = final_df.drop(columns=['Group'])"
   ]
  },
  {
   "cell_type": "code",
   "execution_count": null,
   "id": "3ebb9e33-b232-472c-ba0b-d6ccc3447f0c",
   "metadata": {},
   "outputs": [],
   "source": []
  },
  {
   "cell_type": "code",
   "execution_count": null,
   "id": "415eb486-a851-42f4-917f-a8c9c4b62d31",
   "metadata": {},
   "outputs": [],
   "source": []
  },
  {
   "cell_type": "code",
   "execution_count": 21,
   "id": "c18fc9f4-8731-4f84-b64f-d0536cc1c9ad",
   "metadata": {},
   "outputs": [],
   "source": []
  },
  {
   "cell_type": "code",
   "execution_count": 42,
   "id": "86dc415f-5004-4d06-b64a-029afd832274",
   "metadata": {},
   "outputs": [],
   "source": [
    "final_df.to_csv(\"../exp_files/pilot.csv\")"
   ]
  },
  {
   "cell_type": "code",
   "execution_count": null,
   "id": "519020cf-42aa-49a8-aa8e-a3d68bd388ef",
   "metadata": {},
   "outputs": [],
   "source": []
  }
 ],
 "metadata": {
  "kernelspec": {
   "display_name": "Python 3 (ipykernel)",
   "language": "python",
   "name": "python3"
  },
  "language_info": {
   "codemirror_mode": {
    "name": "ipython",
    "version": 3
   },
   "file_extension": ".py",
   "mimetype": "text/x-python",
   "name": "python",
   "nbconvert_exporter": "python",
   "pygments_lexer": "ipython3",
   "version": "3.8.3"
  }
 },
 "nbformat": 4,
 "nbformat_minor": 5
}
